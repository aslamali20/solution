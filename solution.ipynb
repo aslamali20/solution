{
 "cells": [
  {
   "cell_type": "code",
   "execution_count": 7,
   "id": "dca0647b",
   "metadata": {},
   "outputs": [
    {
     "name": "stdout",
     "output_type": "stream",
     "text": [
      "Defaulting to user installation because normal site-packages is not writeable\n",
      "Requirement already satisfied: telethon in c:\\users\\ali\\appdata\\roaming\\python\\python39\\site-packages (1.25.4)\n",
      "Requirement already satisfied: pyaes in c:\\users\\ali\\appdata\\roaming\\python\\python39\\site-packages (from telethon) (1.6.1)\n",
      "Requirement already satisfied: rsa in c:\\programdata\\anaconda3\\lib\\site-packages (from telethon) (4.9)\n",
      "Requirement already satisfied: pyasn1>=0.1.3 in c:\\programdata\\anaconda3\\lib\\site-packages (from rsa->telethon) (0.4.8)\n"
     ]
    },
    {
     "name": "stderr",
     "output_type": "stream",
     "text": [
      "\n",
      "[notice] A new release of pip available: 22.3 -> 22.3.1\n",
      "[notice] To update, run: python.exe -m pip install --upgrade pip\n"
     ]
    }
   ],
   "source": [
    "! pip install telethon"
   ]
  },
  {
   "cell_type": "code",
   "execution_count": 8,
   "id": "3aaa36fb",
   "metadata": {},
   "outputs": [],
   "source": [
    "from telethon.sync import TelegramClient\n"
   ]
  },
  {
   "cell_type": "code",
   "execution_count": 9,
   "id": "277e7e2c",
   "metadata": {},
   "outputs": [],
   "source": [
    "from telethon.sync import TelegramClient\n",
    "api_id = 123456\n",
    "api_hash = 'YOUR_API_HASH'\n",
    "phone = '+111111111111'\n",
    "client = TelegramClient(phone, api_id, api_hash)\n"
   ]
  },
  {
   "cell_type": "code",
   "execution_count": 11,
   "id": "1baee726",
   "metadata": {},
   "outputs": [
    {
     "ename": "OperationalError",
     "evalue": "database is locked",
     "output_type": "error",
     "traceback": [
      "\u001b[1;31m---------------------------------------------------------------------------\u001b[0m",
      "\u001b[1;31mOperationalError\u001b[0m                          Traceback (most recent call last)",
      "Input \u001b[1;32mIn [11]\u001b[0m, in \u001b[0;36m<cell line: 9>\u001b[1;34m()\u001b[0m\n\u001b[0;32m      7\u001b[0m api_hash \u001b[38;5;241m=\u001b[39m \u001b[38;5;124m'\u001b[39m\u001b[38;5;124mYOUR_API_HASH\u001b[39m\u001b[38;5;124m'\u001b[39m\n\u001b[0;32m      8\u001b[0m phone \u001b[38;5;241m=\u001b[39m \u001b[38;5;124m'\u001b[39m\u001b[38;5;124m+111111111111\u001b[39m\u001b[38;5;124m'\u001b[39m\n\u001b[1;32m----> 9\u001b[0m client \u001b[38;5;241m=\u001b[39m \u001b[43mTelegramClient\u001b[49m\u001b[43m(\u001b[49m\u001b[43mphone\u001b[49m\u001b[43m,\u001b[49m\u001b[43m \u001b[49m\u001b[43mapi_id\u001b[49m\u001b[43m,\u001b[49m\u001b[43m \u001b[49m\u001b[43mapi_hash\u001b[49m\u001b[43m)\u001b[49m\n\u001b[0;32m     11\u001b[0m client\u001b[38;5;241m.\u001b[39mconnect()\n\u001b[0;32m     12\u001b[0m \u001b[38;5;28;01mif\u001b[39;00m \u001b[38;5;129;01mnot\u001b[39;00m client\u001b[38;5;241m.\u001b[39mis_user_authorized():\n",
      "File \u001b[1;32m~\\AppData\\Roaming\\Python\\Python39\\site-packages\\telethon\\client\\telegrambaseclient.py:294\u001b[0m, in \u001b[0;36mTelegramBaseClient.__init__\u001b[1;34m(self, session, api_id, api_hash, connection, use_ipv6, proxy, local_addr, timeout, request_retries, connection_retries, retry_delay, auto_reconnect, sequential_updates, flood_sleep_threshold, raise_last_call_error, device_model, system_version, app_version, lang_code, system_lang_code, loop, base_logger, receive_updates, catch_up)\u001b[0m\n\u001b[0;32m    291\u001b[0m \u001b[38;5;66;03m# ':' in session.server_address is True if it's an IPv6 address\u001b[39;00m\n\u001b[0;32m    292\u001b[0m \u001b[38;5;28;01mif\u001b[39;00m (\u001b[38;5;129;01mnot\u001b[39;00m session\u001b[38;5;241m.\u001b[39mserver_address \u001b[38;5;129;01mor\u001b[39;00m\n\u001b[0;32m    293\u001b[0m         (\u001b[38;5;124m'\u001b[39m\u001b[38;5;124m:\u001b[39m\u001b[38;5;124m'\u001b[39m \u001b[38;5;129;01min\u001b[39;00m session\u001b[38;5;241m.\u001b[39mserver_address) \u001b[38;5;241m!=\u001b[39m use_ipv6):\n\u001b[1;32m--> 294\u001b[0m     \u001b[43msession\u001b[49m\u001b[38;5;241;43m.\u001b[39;49m\u001b[43mset_dc\u001b[49m\u001b[43m(\u001b[49m\n\u001b[0;32m    295\u001b[0m \u001b[43m        \u001b[49m\u001b[43mDEFAULT_DC_ID\u001b[49m\u001b[43m,\u001b[49m\n\u001b[0;32m    296\u001b[0m \u001b[43m        \u001b[49m\u001b[43mDEFAULT_IPV6_IP\u001b[49m\u001b[43m \u001b[49m\u001b[38;5;28;43;01mif\u001b[39;49;00m\u001b[43m \u001b[49m\u001b[38;5;28;43mself\u001b[39;49m\u001b[38;5;241;43m.\u001b[39;49m\u001b[43m_use_ipv6\u001b[49m\u001b[43m \u001b[49m\u001b[38;5;28;43;01melse\u001b[39;49;00m\u001b[43m \u001b[49m\u001b[43mDEFAULT_IPV4_IP\u001b[49m\u001b[43m,\u001b[49m\n\u001b[0;32m    297\u001b[0m \u001b[43m        \u001b[49m\u001b[43mDEFAULT_PORT\u001b[49m\n\u001b[0;32m    298\u001b[0m \u001b[43m    \u001b[49m\u001b[43m)\u001b[49m\n\u001b[0;32m    300\u001b[0m \u001b[38;5;28mself\u001b[39m\u001b[38;5;241m.\u001b[39mflood_sleep_threshold \u001b[38;5;241m=\u001b[39m flood_sleep_threshold\n\u001b[0;32m    302\u001b[0m \u001b[38;5;66;03m# TODO Use AsyncClassWrapper(session)\u001b[39;00m\n\u001b[0;32m    303\u001b[0m \u001b[38;5;66;03m# ChatGetter and SenderGetter can use the in-memory _entity_cache\u001b[39;00m\n\u001b[0;32m    304\u001b[0m \u001b[38;5;66;03m# to avoid network access and the need for await in session files.\u001b[39;00m\n\u001b[1;32m   (...)\u001b[0m\n\u001b[0;32m    308\u001b[0m \u001b[38;5;66;03m# TODO Session should probably return all cached\u001b[39;00m\n\u001b[0;32m    309\u001b[0m \u001b[38;5;66;03m#      info of entities, not just the input versions\u001b[39;00m\n",
      "File \u001b[1;32m~\\AppData\\Roaming\\Python\\Python39\\site-packages\\telethon\\sessions\\sqlite.py:168\u001b[0m, in \u001b[0;36mSQLiteSession.set_dc\u001b[1;34m(self, dc_id, server_address, port)\u001b[0m\n\u001b[0;32m    166\u001b[0m \u001b[38;5;28;01mdef\u001b[39;00m \u001b[38;5;21mset_dc\u001b[39m(\u001b[38;5;28mself\u001b[39m, dc_id, server_address, port):\n\u001b[0;32m    167\u001b[0m     \u001b[38;5;28msuper\u001b[39m()\u001b[38;5;241m.\u001b[39mset_dc(dc_id, server_address, port)\n\u001b[1;32m--> 168\u001b[0m     \u001b[38;5;28;43mself\u001b[39;49m\u001b[38;5;241;43m.\u001b[39;49m\u001b[43m_update_session_table\u001b[49m\u001b[43m(\u001b[49m\u001b[43m)\u001b[49m\n\u001b[0;32m    170\u001b[0m     \u001b[38;5;66;03m# Fetch the auth_key corresponding to this data center\u001b[39;00m\n\u001b[0;32m    171\u001b[0m     row \u001b[38;5;241m=\u001b[39m \u001b[38;5;28mself\u001b[39m\u001b[38;5;241m.\u001b[39m_execute(\u001b[38;5;124m'\u001b[39m\u001b[38;5;124mselect auth_key from sessions\u001b[39m\u001b[38;5;124m'\u001b[39m)\n",
      "File \u001b[1;32m~\\AppData\\Roaming\\Python\\Python39\\site-packages\\telethon\\sessions\\sqlite.py:194\u001b[0m, in \u001b[0;36mSQLiteSession._update_session_table\u001b[1;34m(self)\u001b[0m\n\u001b[0;32m    188\u001b[0m c \u001b[38;5;241m=\u001b[39m \u001b[38;5;28mself\u001b[39m\u001b[38;5;241m.\u001b[39m_cursor()\n\u001b[0;32m    189\u001b[0m \u001b[38;5;66;03m# While we can save multiple rows into the sessions table\u001b[39;00m\n\u001b[0;32m    190\u001b[0m \u001b[38;5;66;03m# currently we only want to keep ONE as the tables don't\u001b[39;00m\n\u001b[0;32m    191\u001b[0m \u001b[38;5;66;03m# tell us which auth_key's are usable and will work. Needs\u001b[39;00m\n\u001b[0;32m    192\u001b[0m \u001b[38;5;66;03m# some more work before being able to save auth_key's for\u001b[39;00m\n\u001b[0;32m    193\u001b[0m \u001b[38;5;66;03m# multiple DCs. Probably done differently.\u001b[39;00m\n\u001b[1;32m--> 194\u001b[0m \u001b[43mc\u001b[49m\u001b[38;5;241;43m.\u001b[39;49m\u001b[43mexecute\u001b[49m\u001b[43m(\u001b[49m\u001b[38;5;124;43m'\u001b[39;49m\u001b[38;5;124;43mdelete from sessions\u001b[39;49m\u001b[38;5;124;43m'\u001b[39;49m\u001b[43m)\u001b[49m\n\u001b[0;32m    195\u001b[0m c\u001b[38;5;241m.\u001b[39mexecute(\u001b[38;5;124m'\u001b[39m\u001b[38;5;124minsert or replace into sessions values (?,?,?,?,?)\u001b[39m\u001b[38;5;124m'\u001b[39m, (\n\u001b[0;32m    196\u001b[0m     \u001b[38;5;28mself\u001b[39m\u001b[38;5;241m.\u001b[39m_dc_id,\n\u001b[0;32m    197\u001b[0m     \u001b[38;5;28mself\u001b[39m\u001b[38;5;241m.\u001b[39m_server_address,\n\u001b[1;32m   (...)\u001b[0m\n\u001b[0;32m    200\u001b[0m     \u001b[38;5;28mself\u001b[39m\u001b[38;5;241m.\u001b[39m_takeout_id\n\u001b[0;32m    201\u001b[0m ))\n\u001b[0;32m    202\u001b[0m c\u001b[38;5;241m.\u001b[39mclose()\n",
      "\u001b[1;31mOperationalError\u001b[0m: database is locked"
     ]
    }
   ],
   "source": [
    "from telethon.sync import TelegramClient\n",
    "from telethon.tl.functions.messages import GetDialogsRequest\n",
    "from telethon.tl.types import InputPeerEmpty\n",
    "import csv\n",
    "\n",
    "api_id = 123456\n",
    "api_hash = 'YOUR_API_HASH'\n",
    "phone = '+111111111111'\n",
    "client = TelegramClient(phone, api_id, api_hash)\n",
    "\n",
    "client.connect()\n",
    "if not client.is_user_authorized():\n",
    "    client.send_code_request(phone)\n",
    "    client.sign_in(phone, input('Enter the code: '))\n",
    "\n",
    "\n",
    "chats = []\n",
    "last_date = None\n",
    "chunk_size = 200\n",
    "groups=[]\n",
    " \n",
    "result = client(GetDialogsRequest(\n",
    "             offset_date=last_date,\n",
    "             offset_id=0,\n",
    "             offset_peer=InputPeerEmpty(),\n",
    "             limit=chunk_size,\n",
    "             hash = 0\n",
    "         ))\n",
    "chats.extend(result.chats)\n",
    "\n",
    "for chat in chats:\n",
    "    try:\n",
    "        if chat.megagroup== True:\n",
    "            groups.append(chat)\n",
    "    except:\n",
    "        continue\n",
    "\n",
    "print('Choose a group to scrape members from:')\n",
    "i=0\n",
    "for g in groups:\n",
    "    print(str(i) + '- ' + g.title)\n",
    "    i+=1\n",
    "\n",
    "g_index = input(\"Enter a Number: \")\n",
    "target_group=groups[int(g_index)]\n",
    "\n",
    "print('Fetching Members...')\n",
    "all_participants = []\n",
    "all_participants = client.get_participants(target_group, aggressive=True)\n",
    "\n",
    "print('Saving In file...')\n",
    "with open(\"data.csv\",\"w\",encoding='UTF-8') as f:\n",
    "    writer = csv.writer(f,delimiter=\",\",lineterminator=\"\\n\")\n",
    "    writer.writerow(['username','user id', 'access hash','name','group', 'group id'])\n",
    "    for user in all_participants:\n",
    "        if user.username:\n",
    "            username= user.username\n",
    "        else:\n",
    "            username= \"\"\n",
    "        if user.first_name:\n",
    "            first_name= user.first_name\n",
    "        else:\n",
    "            first_name= \"\"\n",
    "        if user.last_name:\n",
    "            last_name= user.last_name\n",
    "        else:\n",
    "            last_name= \"\"\n",
    "        name= (first_name + ' ' + last_name).strip()\n",
    "        writer.writerow([username,user.id,user.access_hash,name,target_group.title, target_group.id])      \n",
    "print('Members scraped successfully.')\n"
   ]
  },
  {
   "cell_type": "code",
   "execution_count": null,
   "id": "7508f456",
   "metadata": {},
   "outputs": [],
   "source": []
  }
 ],
 "metadata": {
  "kernelspec": {
   "display_name": "Python 3 (ipykernel)",
   "language": "python",
   "name": "python3"
  },
  "language_info": {
   "codemirror_mode": {
    "name": "ipython",
    "version": 3
   },
   "file_extension": ".py",
   "mimetype": "text/x-python",
   "name": "python",
   "nbconvert_exporter": "python",
   "pygments_lexer": "ipython3",
   "version": "3.9.12"
  }
 },
 "nbformat": 4,
 "nbformat_minor": 5
}
